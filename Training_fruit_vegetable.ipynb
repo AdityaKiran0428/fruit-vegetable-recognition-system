{
  "cells": [
    {
      "cell_type": "markdown",
      "metadata": {
        "id": "view-in-github",
        "colab_type": "text"
      },
      "source": [
        "<a href=\"https://colab.research.google.com/github/AdityaKiran0428/fruit-vegetable-recognition-system/blob/main/Training_fruit_vegetable.ipynb\" target=\"_parent\"><img src=\"https://colab.research.google.com/assets/colab-badge.svg\" alt=\"Open In Colab\"/></a>"
      ]
    },
    {
      "cell_type": "markdown",
      "metadata": {
        "id": "uSc-3iYt2Sw5"
      },
      "source": [
        "#Importing Dataset"
      ]
    },
    {
      "cell_type": "code",
      "execution_count": null,
      "metadata": {
        "colab": {
          "background_save": true
        },
        "id": "nmEIcvHR2QWq",
        "outputId": "f22f6cf6-0e1a-4473-cd82-67aceb2e0eaf"
      },
      "outputs": [
        {
          "name": "stdout",
          "output_type": "stream",
          "text": [
            "Drive already mounted at /content/drive; to attempt to forcibly remount, call drive.mount(\"/content/drive\", force_remount=True).\n"
          ]
        }
      ],
      "source": [
        "from google.colab import drive\n",
        "drive.mount('/content/drive')"
      ]
    },
    {
      "cell_type": "markdown",
      "metadata": {
        "id": "gxz1sBxPLMOl"
      },
      "source": [
        "#Importing Libraries"
      ]
    },
    {
      "cell_type": "code",
      "execution_count": null,
      "metadata": {
        "id": "ML2Pd4O1LLum"
      },
      "outputs": [],
      "source": [
        "import numpy as np\n",
        "import matplotlib.pyplot as plt\n",
        "import tensorflow as tf"
      ]
    },
    {
      "cell_type": "markdown",
      "metadata": {
        "id": "EfVXaWS7MLNn"
      },
      "source": [
        "#Data Preprocessing"
      ]
    },
    {
      "cell_type": "markdown",
      "metadata": {
        "id": "h9njRIbwa_M3"
      },
      "source": [
        "##Training Image Preprocessing"
      ]
    },
    {
      "cell_type": "code",
      "execution_count": null,
      "metadata": {
        "id": "0UAkhOwWMOQI"
      },
      "outputs": [],
      "source": [
        "training_set = tf.keras.utils.image_dataset_from_directory(\n",
        "    '/content/drive/Othercomputers/My Laptop/CS23B002/Sem3/SE/Fruit_Vegetables_Recognition/train',\n",
        "    labels=\"inferred\",\n",
        "    label_mode=\"categorical\",\n",
        "    class_names=None,\n",
        "    color_mode=\"rgb\",\n",
        "    batch_size=32,\n",
        "    image_size=(64, 64),\n",
        "    shuffle=True,\n",
        "    seed=None,\n",
        "    validation_split=None,\n",
        "    subset=None,\n",
        "    interpolation=\"bilinear\",\n",
        "    follow_links=False,\n",
        "    crop_to_aspect_ratio=False,\n",
        ")"
      ]
    },
    {
      "cell_type": "markdown",
      "metadata": {
        "id": "koIbI6gEf3_B"
      },
      "source": [
        "##Validation Image Preprocessing"
      ]
    },
    {
      "cell_type": "code",
      "execution_count": null,
      "metadata": {
        "id": "Kldthv2gf99K"
      },
      "outputs": [],
      "source": [
        "validation_set = tf.keras.utils.image_dataset_from_directory(\n",
        "    '/content/drive/Othercomputers/My Laptop/CS23B002/Sem3/SE/Fruit_Vegetables_Recognition/validation',\n",
        "    labels=\"inferred\",\n",
        "    label_mode=\"categorical\",\n",
        "    class_names=None,\n",
        "    color_mode=\"rgb\",\n",
        "    batch_size=32,\n",
        "    image_size=(64, 64),\n",
        "    shuffle=True,\n",
        "    seed=None,\n",
        "    validation_split=None,\n",
        "    subset=None,\n",
        "    interpolation=\"bilinear\",\n",
        "    follow_links=False,\n",
        "    crop_to_aspect_ratio=False,\n",
        ")"
      ]
    },
    {
      "cell_type": "markdown",
      "metadata": {
        "id": "QseqFiDVSGc8"
      },
      "source": [
        "#Building Model"
      ]
    },
    {
      "cell_type": "code",
      "execution_count": null,
      "metadata": {
        "id": "Y3e0D-XRSKlF"
      },
      "outputs": [],
      "source": [
        "cnn = tf.keras.models.Sequential()"
      ]
    },
    {
      "cell_type": "markdown",
      "metadata": {
        "id": "rE2YS2jdSTzW"
      },
      "source": [
        "##Building Convolution Layer"
      ]
    },
    {
      "cell_type": "code",
      "execution_count": null,
      "metadata": {
        "collapsed": true,
        "id": "Z2XQ4ZpmSevS"
      },
      "outputs": [],
      "source": [
        "cnn = tf.keras.models.Sequential()\n",
        "\n",
        "# Define the input shape with the Input layer first\n",
        "cnn.add(tf.keras.layers.Input(shape=[64, 64, 3]))\n",
        "\n",
        "# Add Conv2D layer without specifying input_shape\n",
        "cnn.add(tf.keras.layers.Conv2D(filters=64, kernel_size=3, activation='relu'))\n",
        "\n",
        "# Add MaxPooling layer\n",
        "cnn.add(tf.keras.layers.MaxPool2D(pool_size=2, strides=2))"
      ]
    },
    {
      "cell_type": "code",
      "execution_count": null,
      "metadata": {
        "id": "Zt1mhGoQTp8_"
      },
      "outputs": [],
      "source": [
        "cnn.add(tf.keras.layers.Conv2D(filters=64,kernel_size=3,activation='relu'))\n",
        "cnn.add(tf.keras.layers.MaxPool2D(pool_size=2,strides=2))"
      ]
    },
    {
      "cell_type": "code",
      "execution_count": null,
      "metadata": {
        "id": "lqZpxj4zT8kE"
      },
      "outputs": [],
      "source": [
        "cnn.add(tf.keras.layers.Dropout(0.5)) #To avoid overfitting"
      ]
    },
    {
      "cell_type": "code",
      "execution_count": null,
      "metadata": {
        "id": "PrY-Wf3uUMOH"
      },
      "outputs": [],
      "source": [
        "cnn.add(tf.keras.layers.Flatten())"
      ]
    },
    {
      "cell_type": "code",
      "execution_count": null,
      "metadata": {
        "id": "R7Qr7cY9UVGK"
      },
      "outputs": [],
      "source": [
        "cnn.add(tf.keras.layers.Dense(units=128,activation='relu'))"
      ]
    },
    {
      "cell_type": "code",
      "execution_count": null,
      "metadata": {
        "id": "8qmKzo8vUdQ3"
      },
      "outputs": [],
      "source": [
        "#Output Layer\n",
        "cnn.add(tf.keras.layers.Dense(units=36,activation='softmax'))"
      ]
    },
    {
      "cell_type": "markdown",
      "metadata": {
        "id": "mt7oDyKfWNtC"
      },
      "source": [
        "##Compiling and Training Phase"
      ]
    },
    {
      "cell_type": "code",
      "execution_count": null,
      "metadata": {
        "id": "fM0Z7S-JWV23"
      },
      "outputs": [],
      "source": [
        "cnn.compile(optimizer='rmsprop',loss='categorical_crossentropy',metrics=['accuracy'])"
      ]
    },
    {
      "cell_type": "code",
      "execution_count": null,
      "metadata": {
        "colab": {
          "background_save": true
        },
        "id": "5cD5ROX3WgID",
        "outputId": "b9e1b7ef-f567-45e8-c9ff-31175cf7ba02"
      },
      "outputs": [
        {
          "name": "stdout",
          "output_type": "stream",
          "text": [
            "Epoch 1/30\n",
            "\u001b[1m98/98\u001b[0m \u001b[32m━━━━━━━━━━━━━━━━━━━━\u001b[0m\u001b[37m\u001b[0m \u001b[1m113s\u001b[0m 1s/step - accuracy: 0.0295 - loss: 34.4546 - val_accuracy: 0.0997 - val_loss: 3.4682\n",
            "Epoch 2/30\n",
            "\u001b[1m98/98\u001b[0m \u001b[32m━━━━━━━━━━━━━━━━━━━━\u001b[0m\u001b[37m\u001b[0m \u001b[1m137s\u001b[0m 1s/step - accuracy: 0.0582 - loss: 5.1095 - val_accuracy: 0.1567 - val_loss: 3.3597\n",
            "Epoch 3/30\n",
            "\u001b[1m98/98\u001b[0m \u001b[32m━━━━━━━━━━━━━━━━━━━━\u001b[0m\u001b[37m\u001b[0m \u001b[1m106s\u001b[0m 1s/step - accuracy: 0.0862 - loss: 3.8306 - val_accuracy: 0.2023 - val_loss: 3.2624\n",
            "Epoch 4/30\n",
            "\u001b[1m98/98\u001b[0m \u001b[32m━━━━━━━━━━━━━━━━━━━━\u001b[0m\u001b[37m\u001b[0m \u001b[1m142s\u001b[0m 1s/step - accuracy: 0.1252 - loss: 4.0743 - val_accuracy: 0.3219 - val_loss: 2.8562\n",
            "Epoch 5/30\n",
            "\u001b[1m98/98\u001b[0m \u001b[32m━━━━━━━━━━━━━━━━━━━━\u001b[0m\u001b[37m\u001b[0m \u001b[1m113s\u001b[0m 1s/step - accuracy: 0.1566 - loss: 3.9209 - val_accuracy: 0.4416 - val_loss: 2.5226\n",
            "Epoch 6/30\n",
            "\u001b[1m98/98\u001b[0m \u001b[32m━━━━━━━━━━━━━━━━━━━━\u001b[0m\u001b[37m\u001b[0m \u001b[1m135s\u001b[0m 1s/step - accuracy: 0.2275 - loss: 3.0552 - val_accuracy: 0.4387 - val_loss: 2.4212\n",
            "Epoch 7/30\n",
            "\u001b[1m98/98\u001b[0m \u001b[32m━━━━━━━━━━━━━━━━━━━━\u001b[0m\u001b[37m\u001b[0m \u001b[1m142s\u001b[0m 1s/step - accuracy: 0.2499 - loss: 3.2309 - val_accuracy: 0.4644 - val_loss: 2.0961\n",
            "Epoch 8/30\n",
            "\u001b[1m98/98\u001b[0m \u001b[32m━━━━━━━━━━━━━━━━━━━━\u001b[0m\u001b[37m\u001b[0m \u001b[1m115s\u001b[0m 1s/step - accuracy: 0.3090 - loss: 2.9677 - val_accuracy: 0.2821 - val_loss: 6.0305\n",
            "Epoch 9/30\n",
            "\u001b[1m98/98\u001b[0m \u001b[32m━━━━━━━━━━━━━━━━━━━━\u001b[0m\u001b[37m\u001b[0m \u001b[1m134s\u001b[0m 1s/step - accuracy: 0.3490 - loss: 2.9853 - val_accuracy: 0.6667 - val_loss: 1.6405\n",
            "Epoch 10/30\n",
            "\u001b[1m98/98\u001b[0m \u001b[32m━━━━━━━━━━━━━━━━━━━━\u001b[0m\u001b[37m\u001b[0m \u001b[1m112s\u001b[0m 1s/step - accuracy: 0.4056 - loss: 2.4648 - val_accuracy: 0.4815 - val_loss: 2.5762\n",
            "Epoch 11/30\n",
            "\u001b[1m98/98\u001b[0m \u001b[32m━━━━━━━━━━━━━━━━━━━━\u001b[0m\u001b[37m\u001b[0m \u001b[1m136s\u001b[0m 1s/step - accuracy: 0.4564 - loss: 2.3051 - val_accuracy: 0.7265 - val_loss: 1.3384\n",
            "Epoch 12/30\n",
            "\u001b[1m98/98\u001b[0m \u001b[32m━━━━━━━━━━━━━━━━━━━━\u001b[0m\u001b[37m\u001b[0m \u001b[1m142s\u001b[0m 1s/step - accuracy: 0.4919 - loss: 2.0945 - val_accuracy: 0.7094 - val_loss: 1.4814\n",
            "Epoch 13/30\n",
            "\u001b[1m98/98\u001b[0m \u001b[32m━━━━━━━━━━━━━━━━━━━━\u001b[0m\u001b[37m\u001b[0m \u001b[1m142s\u001b[0m 1s/step - accuracy: 0.5329 - loss: 2.1111 - val_accuracy: 0.6695 - val_loss: 1.6891\n",
            "Epoch 14/30\n",
            "\u001b[1m98/98\u001b[0m \u001b[32m━━━━━━━━━━━━━━━━━━━━\u001b[0m\u001b[37m\u001b[0m \u001b[1m106s\u001b[0m 1s/step - accuracy: 0.5389 - loss: 2.0955 - val_accuracy: 0.7664 - val_loss: 1.3064\n",
            "Epoch 15/30\n",
            "\u001b[1m98/98\u001b[0m \u001b[32m━━━━━━━━━━━━━━━━━━━━\u001b[0m\u001b[37m\u001b[0m \u001b[1m111s\u001b[0m 1s/step - accuracy: 0.5831 - loss: 1.7628 - val_accuracy: 0.6952 - val_loss: 1.6572\n",
            "Epoch 16/30\n",
            "\u001b[1m98/98\u001b[0m \u001b[32m━━━━━━━━━━━━━━━━━━━━\u001b[0m\u001b[37m\u001b[0m \u001b[1m106s\u001b[0m 1s/step - accuracy: 0.6117 - loss: 1.6534 - val_accuracy: 0.7635 - val_loss: 1.3136\n",
            "Epoch 17/30\n",
            "\u001b[1m98/98\u001b[0m \u001b[32m━━━━━━━━━━━━━━━━━━━━\u001b[0m\u001b[37m\u001b[0m \u001b[1m152s\u001b[0m 1s/step - accuracy: 0.6189 - loss: 1.7359 - val_accuracy: 0.4160 - val_loss: 2.4963\n",
            "Epoch 18/30\n",
            "\u001b[1m98/98\u001b[0m \u001b[32m━━━━━━━━━━━━━━━━━━━━\u001b[0m\u001b[37m\u001b[0m \u001b[1m132s\u001b[0m 1s/step - accuracy: 0.6630 - loss: 1.5543 - val_accuracy: 0.8205 - val_loss: 1.1962\n",
            "Epoch 19/30\n",
            "\u001b[1m98/98\u001b[0m \u001b[32m━━━━━━━━━━━━━━━━━━━━\u001b[0m\u001b[37m\u001b[0m \u001b[1m116s\u001b[0m 1s/step - accuracy: 0.6829 - loss: 1.4972 - val_accuracy: 0.8575 - val_loss: 1.2081\n",
            "Epoch 20/30\n",
            "\u001b[1m98/98\u001b[0m \u001b[32m━━━━━━━━━━━━━━━━━━━━\u001b[0m\u001b[37m\u001b[0m \u001b[1m111s\u001b[0m 1s/step - accuracy: 0.7070 - loss: 1.4690 - val_accuracy: 0.8547 - val_loss: 1.2578\n",
            "Epoch 21/30\n",
            "\u001b[1m98/98\u001b[0m \u001b[32m━━━━━━━━━━━━━━━━━━━━\u001b[0m\u001b[37m\u001b[0m \u001b[1m106s\u001b[0m 1s/step - accuracy: 0.7221 - loss: 1.3630 - val_accuracy: 0.8063 - val_loss: 1.2498\n",
            "Epoch 22/30\n",
            "\u001b[1m98/98\u001b[0m \u001b[32m━━━━━━━━━━━━━━━━━━━━\u001b[0m\u001b[37m\u001b[0m \u001b[1m106s\u001b[0m 1s/step - accuracy: 0.7531 - loss: 1.0936 - val_accuracy: 0.8689 - val_loss: 1.1016\n",
            "Epoch 23/30\n",
            "\u001b[1m98/98\u001b[0m \u001b[32m━━━━━━━━━━━━━━━━━━━━\u001b[0m\u001b[37m\u001b[0m \u001b[1m142s\u001b[0m 1s/step - accuracy: 0.7606 - loss: 1.1254 - val_accuracy: 0.8462 - val_loss: 1.6007\n",
            "Epoch 24/30\n",
            "\u001b[1m98/98\u001b[0m \u001b[32m━━━━━━━━━━━━━━━━━━━━\u001b[0m\u001b[37m\u001b[0m \u001b[1m142s\u001b[0m 1s/step - accuracy: 0.7758 - loss: 1.1773 - val_accuracy: 0.8632 - val_loss: 1.5164\n",
            "Epoch 25/30\n",
            "\u001b[1m98/98\u001b[0m \u001b[32m━━━━━━━━━━━━━━━━━━━━\u001b[0m\u001b[37m\u001b[0m \u001b[1m143s\u001b[0m 1s/step - accuracy: 0.7852 - loss: 1.1204 - val_accuracy: 0.8006 - val_loss: 2.1466\n",
            "Epoch 26/30\n",
            "\u001b[1m98/98\u001b[0m \u001b[32m━━━━━━━━━━━━━━━━━━━━\u001b[0m\u001b[37m\u001b[0m \u001b[1m141s\u001b[0m 1s/step - accuracy: 0.7823 - loss: 1.2523 - val_accuracy: 0.8462 - val_loss: 1.5967\n",
            "Epoch 27/30\n",
            "\u001b[1m98/98\u001b[0m \u001b[32m━━━━━━━━━━━━━━━━━━━━\u001b[0m\u001b[37m\u001b[0m \u001b[1m140s\u001b[0m 1s/step - accuracy: 0.8278 - loss: 0.8497 - val_accuracy: 0.8832 - val_loss: 1.6757\n",
            "Epoch 28/30\n",
            "\u001b[1m98/98\u001b[0m \u001b[32m━━━━━━━━━━━━━━━━━━━━\u001b[0m\u001b[37m\u001b[0m \u001b[1m107s\u001b[0m 1s/step - accuracy: 0.8083 - loss: 1.0336 - val_accuracy: 0.9202 - val_loss: 1.2422\n",
            "Epoch 29/30\n",
            "\u001b[1m98/98\u001b[0m \u001b[32m━━━━━━━━━━━━━━━━━━━━\u001b[0m\u001b[37m\u001b[0m \u001b[1m111s\u001b[0m 1s/step - accuracy: 0.7907 - loss: 1.1564 - val_accuracy: 0.8689 - val_loss: 1.8903\n",
            "Epoch 30/30\n",
            "\u001b[1m98/98\u001b[0m \u001b[32m━━━━━━━━━━━━━━━━━━━━\u001b[0m\u001b[37m\u001b[0m \u001b[1m107s\u001b[0m 1s/step - accuracy: 0.8115 - loss: 1.1071 - val_accuracy: 0.9003 - val_loss: 1.4350\n"
          ]
        }
      ],
      "source": [
        "training_history = cnn.fit(x=training_set,validation_data=validation_set,epochs=30)"
      ]
    },
    {
      "cell_type": "markdown",
      "metadata": {
        "id": "i1eLGJbx2WhW"
      },
      "source": [
        "##Saving Model"
      ]
    },
    {
      "cell_type": "code",
      "execution_count": null,
      "metadata": {
        "colab": {
          "background_save": true
        },
        "id": "A_IkCe_e2Va9",
        "outputId": "86044be1-08a7-4a0d-9dd1-33d2a7b35d28"
      },
      "outputs": [
        {
          "name": "stderr",
          "output_type": "stream",
          "text": [
            "WARNING:absl:You are saving your model as an HDF5 file via `model.save()` or `keras.saving.save_model(model)`. This file format is considered legacy. We recommend using instead the native Keras format, e.g. `model.save('my_model.keras')` or `keras.saving.save_model(model, 'my_model.keras')`. \n"
          ]
        }
      ],
      "source": [
        "cnn.save('trained_model.h5')"
      ]
    },
    {
      "cell_type": "code",
      "execution_count": null,
      "metadata": {
        "colab": {
          "background_save": true
        },
        "collapsed": true,
        "id": "4JreNxc1qL5A",
        "outputId": "ed64f1e7-dcfd-4e2f-f7ec-e72e4f39cbaa"
      },
      "outputs": [
        {
          "data": {
            "text/plain": [
              "{'accuracy': [0.034349918365478516,\n",
              "  0.06131621077656746,\n",
              "  0.10272873193025589,\n",
              "  0.13611556589603424,\n",
              "  0.1666131615638733,\n",
              "  0.22632423043251038,\n",
              "  0.27383628487586975,\n",
              "  0.32487961649894714,\n",
              "  0.3813804090023041,\n",
              "  0.420545756816864,\n",
              "  0.4629213511943817,\n",
              "  0.5020866990089417,\n",
              "  0.5617977380752563,\n",
              "  0.5656501054763794,\n",
              "  0.6022471785545349,\n",
              "  0.6182985305786133,\n",
              "  0.6260032057762146,\n",
              "  0.679614782333374,\n",
              "  0.6863563656806946,\n",
              "  0.7191011309623718,\n",
              "  0.7351524829864502,\n",
              "  0.7489566802978516,\n",
              "  0.7627608180046082,\n",
              "  0.7881219983100891,\n",
              "  0.7971107363700867,\n",
              "  0.7791332006454468,\n",
              "  0.8250401020050049,\n",
              "  0.8231139779090881,\n",
              "  0.8038523197174072,\n",
              "  0.8221508860588074],\n",
              " 'loss': [11.383219718933105,\n",
              "  4.593145370483398,\n",
              "  3.791491746902466,\n",
              "  3.8954808712005615,\n",
              "  3.8112194538116455,\n",
              "  3.088104486465454,\n",
              "  3.3844661712646484,\n",
              "  2.906534433364868,\n",
              "  2.665083885192871,\n",
              "  2.5753190517425537,\n",
              "  2.3440120220184326,\n",
              "  2.0865421295166016,\n",
              "  1.9560669660568237,\n",
              "  2.0160861015319824,\n",
              "  1.7028238773345947,\n",
              "  1.673290729522705,\n",
              "  1.89089834690094,\n",
              "  1.4743043184280396,\n",
              "  1.4712873697280884,\n",
              "  1.3951572179794312,\n",
              "  1.3100346326828003,\n",
              "  1.1429908275604248,\n",
              "  1.1066871881484985,\n",
              "  0.9817070364952087,\n",
              "  1.0376602411270142,\n",
              "  1.3757364749908447,\n",
              "  0.9008022546768188,\n",
              "  1.0079010725021362,\n",
              "  1.0379555225372314,\n",
              "  1.0152910947799683],\n",
              " 'val_accuracy': [0.09971509873867035,\n",
              "  0.156695157289505,\n",
              "  0.202279195189476,\n",
              "  0.32193732261657715,\n",
              "  0.4415954351425171,\n",
              "  0.43874645233154297,\n",
              "  0.4643874764442444,\n",
              "  0.28205129504203796,\n",
              "  0.6666666865348816,\n",
              "  0.48148149251937866,\n",
              "  0.7264957427978516,\n",
              "  0.7094017267227173,\n",
              "  0.6695156693458557,\n",
              "  0.7663817405700684,\n",
              "  0.6951566934585571,\n",
              "  0.7635327577590942,\n",
              "  0.4159544110298157,\n",
              "  0.8205128312110901,\n",
              "  0.8575498461723328,\n",
              "  0.8547008633613586,\n",
              "  0.8062677979469299,\n",
              "  0.8689458966255188,\n",
              "  0.8461538553237915,\n",
              "  0.8632478713989258,\n",
              "  0.8005697727203369,\n",
              "  0.8461538553237915,\n",
              "  0.8831908702850342,\n",
              "  0.9202279448509216,\n",
              "  0.8689458966255188,\n",
              "  0.9002848863601685],\n",
              " 'val_loss': [3.4681782722473145,\n",
              "  3.359747886657715,\n",
              "  3.262436866760254,\n",
              "  2.856153964996338,\n",
              "  2.5226199626922607,\n",
              "  2.4212465286254883,\n",
              "  2.0960683822631836,\n",
              "  6.03054666519165,\n",
              "  1.640487790107727,\n",
              "  2.5761828422546387,\n",
              "  1.3383629322052002,\n",
              "  1.4814387559890747,\n",
              "  1.689138412475586,\n",
              "  1.3063554763793945,\n",
              "  1.6571695804595947,\n",
              "  1.3135803937911987,\n",
              "  2.496346950531006,\n",
              "  1.1961733102798462,\n",
              "  1.2080862522125244,\n",
              "  1.2578043937683105,\n",
              "  1.2497576475143433,\n",
              "  1.1016234159469604,\n",
              "  1.600714087486267,\n",
              "  1.5164185762405396,\n",
              "  2.14663028717041,\n",
              "  1.596701979637146,\n",
              "  1.675737977027893,\n",
              "  1.2422090768814087,\n",
              "  1.890305519104004,\n",
              "  1.4349862337112427]}"
            ]
          },
          "execution_count": 15,
          "metadata": {},
          "output_type": "execute_result"
        }
      ],
      "source": [
        "training_history.history #Return dictionary of history"
      ]
    },
    {
      "cell_type": "code",
      "execution_count": null,
      "metadata": {
        "colab": {
          "background_save": true
        },
        "id": "_-xUcfCVqPeY"
      },
      "outputs": [],
      "source": [
        "#Recording History\n",
        "import json\n",
        "with open('training_hist.json', 'w') as f:\n",
        "    json.dump(training_history.history, f)"
      ]
    },
    {
      "cell_type": "code",
      "execution_count": null,
      "metadata": {
        "colab": {
          "background_save": true
        },
        "id": "i5OGHCA-bc1H",
        "outputId": "c61e9d67-2aa2-425f-c8d3-57298951cc15"
      },
      "outputs": [
        {
          "name": "stdout",
          "output_type": "stream",
          "text": [
            "dict_keys(['accuracy', 'loss', 'val_accuracy', 'val_loss'])\n"
          ]
        }
      ],
      "source": [
        "print(training_history.history.keys())"
      ]
    },
    {
      "cell_type": "markdown",
      "metadata": {
        "id": "noAzjIytblFZ"
      },
      "source": [
        "##Calculating accuracy of Model achieved on Validation set"
      ]
    },
    {
      "cell_type": "code",
      "execution_count": null,
      "metadata": {
        "colab": {
          "background_save": true
        },
        "id": "ZeNPQD7tbkBi",
        "outputId": "3555621a-62cb-4d90-b404-3cbb78614057"
      },
      "outputs": [
        {
          "name": "stdout",
          "output_type": "stream",
          "text": [
            "Validation set accuracy: 90.02848863601685 %\n"
          ]
        }
      ],
      "source": [
        "print(\"Validation set accuracy: {} %\".format(training_history.history['val_accuracy'][-1]*100))"
      ]
    },
    {
      "cell_type": "markdown",
      "source": [
        "#Accuracy Visualisation"
      ],
      "metadata": {
        "id": "cRsq-lHgvhbJ"
      }
    },
    {
      "cell_type": "markdown",
      "source": [
        "##Training Visualisation"
      ],
      "metadata": {
        "id": "np_cleSzvk4N"
      }
    },
    {
      "cell_type": "code",
      "source": [
        "epochs = [i for i in range(1,33)]\n",
        "plt.plot(epochs,training_history.history['accuracy'],color='red')\n",
        "plt.xlabel('No. of Epochs')\n",
        "plt.ylabel('Traiining Accuracy')\n",
        "plt.title('Visualization of Training Accuracy Result')\n",
        "plt.show()"
      ],
      "metadata": {
        "colab": {
          "base_uri": "https://localhost:8080/",
          "height": 472
        },
        "id": "iyLRqX-NvqHw",
        "outputId": "c1618a88-a7d8-4a9f-e4e8-4d82b4326ecf"
      },
      "execution_count": null,
      "outputs": [
        {
          "output_type": "display_data",
          "data": {
            "text/plain": [
              "<Figure size 640x480 with 1 Axes>"
            ],
            "image/png": "[encoded data removed]"
          },
          "metadata": {}
        }
      ]
    },
    {
      "cell_type": "markdown",
      "source": [
        "##Validation Visualisation"
      ],
      "metadata": {
        "id": "r2ssUPJOvxKm"
      }
    },
    {
      "cell_type": "code",
      "source": [
        "plt.plot(epochs,training_history.history['val_accuracy'],color='blue')\n",
        "plt.xlabel('No. of Epochs')\n",
        "plt.ylabel('Validation Accuracy')\n",
        "plt.title('Visualization of Validation Accuracy Result')\n",
        "plt.show()"
      ],
      "metadata": {
        "colab": {
          "base_uri": "https://localhost:8080/",
          "height": 472
        },
        "id": "VggWdWabv0u6",
        "outputId": "09fea29a-6cdd-4497-c501-6b92842d71a2"
      },
      "execution_count": null,
      "outputs": [
        {
          "output_type": "display_data",
          "data": {
            "text/plain": [
              "<Figure size 640x480 with 1 Axes>"
            ],
            "image/png": "[encoded data removed]"
          },
          "metadata": {}
        }
      ]
    }
  ],
  "metadata": {
    "colab": {
      "provenance": [],
      "toc_visible": true,
      "mount_file_id": "1IkF8cEJfXTdbcetffNhbmabpJ4vK5csP",
      "authorship_tag": "ABX9TyPROAivaYeBVX0CZVl9amF+",
      "include_colab_link": true
    },
    "kernelspec": {
      "display_name": "Python 3",
      "name": "python3"
    },
    "language_info": {
      "name": "python"
    }
  },
  "nbformat": 4,
  "nbformat_minor": 0
}